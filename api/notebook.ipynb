{
 "cells": [
  {
   "cell_type": "code",
   "execution_count": 1,
   "metadata": {},
   "outputs": [
    {
     "name": "stdout",
     "output_type": "stream",
     "text": [
      "Requirement already satisfied: tweepy in /Users/bushra.abdullahi/homebrew/lib/python3.10/site-packages (4.12.1)\n",
      "Requirement already satisfied: requests<3,>=2.27.0 in /Users/bushra.abdullahi/homebrew/lib/python3.10/site-packages (from tweepy) (2.28.2)\n",
      "Requirement already satisfied: requests-oauthlib<2,>=1.2.0 in /Users/bushra.abdullahi/homebrew/lib/python3.10/site-packages (from tweepy) (1.3.1)\n",
      "Requirement already satisfied: oauthlib<4,>=3.2.0 in /Users/bushra.abdullahi/homebrew/lib/python3.10/site-packages (from tweepy) (3.2.2)\n",
      "Requirement already satisfied: charset-normalizer<4,>=2 in /Users/bushra.abdullahi/homebrew/lib/python3.10/site-packages (from requests<3,>=2.27.0->tweepy) (3.0.1)\n",
      "Requirement already satisfied: idna<4,>=2.5 in /Users/bushra.abdullahi/homebrew/lib/python3.10/site-packages (from requests<3,>=2.27.0->tweepy) (3.4)\n",
      "Requirement already satisfied: certifi>=2017.4.17 in /Users/bushra.abdullahi/homebrew/lib/python3.10/site-packages (from requests<3,>=2.27.0->tweepy) (2022.12.7)\n",
      "Requirement already satisfied: urllib3<1.27,>=1.21.1 in /Users/bushra.abdullahi/homebrew/lib/python3.10/site-packages (from requests<3,>=2.27.0->tweepy) (1.26.14)\n",
      "\n",
      "\u001b[1m[\u001b[0m\u001b[34;49mnotice\u001b[0m\u001b[1;39;49m]\u001b[0m\u001b[39;49m A new release of pip available: \u001b[0m\u001b[31;49m22.3.1\u001b[0m\u001b[39;49m -> \u001b[0m\u001b[32;49m23.0\u001b[0m\n",
      "\u001b[1m[\u001b[0m\u001b[34;49mnotice\u001b[0m\u001b[1;39;49m]\u001b[0m\u001b[39;49m To update, run: \u001b[0m\u001b[32;49mpython3.10 -m pip install --upgrade pip\u001b[0m\n",
      "Note: you may need to restart the kernel to use updated packages.\n",
      "Requirement already satisfied: textblob in /Users/bushra.abdullahi/homebrew/lib/python3.10/site-packages (0.17.1)\n",
      "Requirement already satisfied: nltk>=3.1 in /Users/bushra.abdullahi/homebrew/lib/python3.10/site-packages (from textblob) (3.8.1)\n",
      "Requirement already satisfied: tqdm in /Users/bushra.abdullahi/homebrew/lib/python3.10/site-packages (from nltk>=3.1->textblob) (4.64.1)\n",
      "Requirement already satisfied: click in /Users/bushra.abdullahi/homebrew/lib/python3.10/site-packages (from nltk>=3.1->textblob) (8.1.3)\n",
      "Requirement already satisfied: regex>=2021.8.3 in /Users/bushra.abdullahi/homebrew/lib/python3.10/site-packages (from nltk>=3.1->textblob) (2022.10.31)\n",
      "Requirement already satisfied: joblib in /Users/bushra.abdullahi/homebrew/lib/python3.10/site-packages (from nltk>=3.1->textblob) (1.2.0)\n",
      "\n",
      "\u001b[1m[\u001b[0m\u001b[34;49mnotice\u001b[0m\u001b[1;39;49m]\u001b[0m\u001b[39;49m A new release of pip available: \u001b[0m\u001b[31;49m22.3.1\u001b[0m\u001b[39;49m -> \u001b[0m\u001b[32;49m23.0\u001b[0m\n",
      "\u001b[1m[\u001b[0m\u001b[34;49mnotice\u001b[0m\u001b[1;39;49m]\u001b[0m\u001b[39;49m To update, run: \u001b[0m\u001b[32;49mpython3.10 -m pip install --upgrade pip\u001b[0m\n",
      "Note: you may need to restart the kernel to use updated packages.\n",
      "Requirement already satisfied: nltk in /Users/bushra.abdullahi/homebrew/lib/python3.10/site-packages (3.8.1)\n",
      "Requirement already satisfied: regex>=2021.8.3 in /Users/bushra.abdullahi/homebrew/lib/python3.10/site-packages (from nltk) (2022.10.31)\n",
      "Requirement already satisfied: joblib in /Users/bushra.abdullahi/homebrew/lib/python3.10/site-packages (from nltk) (1.2.0)\n",
      "Requirement already satisfied: tqdm in /Users/bushra.abdullahi/homebrew/lib/python3.10/site-packages (from nltk) (4.64.1)\n",
      "Requirement already satisfied: click in /Users/bushra.abdullahi/homebrew/lib/python3.10/site-packages (from nltk) (8.1.3)\n",
      "\n",
      "\u001b[1m[\u001b[0m\u001b[34;49mnotice\u001b[0m\u001b[1;39;49m]\u001b[0m\u001b[39;49m A new release of pip available: \u001b[0m\u001b[31;49m22.3.1\u001b[0m\u001b[39;49m -> \u001b[0m\u001b[32;49m23.0\u001b[0m\n",
      "\u001b[1m[\u001b[0m\u001b[34;49mnotice\u001b[0m\u001b[1;39;49m]\u001b[0m\u001b[39;49m To update, run: \u001b[0m\u001b[32;49mpython3.10 -m pip install --upgrade pip\u001b[0m\n",
      "Note: you may need to restart the kernel to use updated packages.\n",
      "Requirement already satisfied: matplotlib in /Users/bushra.abdullahi/homebrew/lib/python3.10/site-packages (3.6.3)\n",
      "Requirement already satisfied: python-dateutil>=2.7 in /Users/bushra.abdullahi/homebrew/lib/python3.10/site-packages (from matplotlib) (2.8.2)\n",
      "Requirement already satisfied: packaging>=20.0 in /Users/bushra.abdullahi/homebrew/lib/python3.10/site-packages (from matplotlib) (23.0)\n",
      "Requirement already satisfied: numpy>=1.19 in /Users/bushra.abdullahi/homebrew/lib/python3.10/site-packages (from matplotlib) (1.24.1)\n",
      "Requirement already satisfied: contourpy>=1.0.1 in /Users/bushra.abdullahi/homebrew/lib/python3.10/site-packages (from matplotlib) (1.0.7)\n",
      "Requirement already satisfied: kiwisolver>=1.0.1 in /Users/bushra.abdullahi/homebrew/lib/python3.10/site-packages (from matplotlib) (1.4.4)\n",
      "Requirement already satisfied: fonttools>=4.22.0 in /Users/bushra.abdullahi/homebrew/lib/python3.10/site-packages (from matplotlib) (4.38.0)\n",
      "Requirement already satisfied: cycler>=0.10 in /Users/bushra.abdullahi/homebrew/lib/python3.10/site-packages (from matplotlib) (0.11.0)\n",
      "Requirement already satisfied: pyparsing>=2.2.1 in /Users/bushra.abdullahi/homebrew/lib/python3.10/site-packages (from matplotlib) (3.0.9)\n",
      "Requirement already satisfied: pillow>=6.2.0 in /Users/bushra.abdullahi/homebrew/lib/python3.10/site-packages (from matplotlib) (9.4.0)\n",
      "Requirement already satisfied: six>=1.5 in /Users/bushra.abdullahi/homebrew/lib/python3.10/site-packages (from python-dateutil>=2.7->matplotlib) (1.16.0)\n",
      "\n",
      "\u001b[1m[\u001b[0m\u001b[34;49mnotice\u001b[0m\u001b[1;39;49m]\u001b[0m\u001b[39;49m A new release of pip available: \u001b[0m\u001b[31;49m22.3.1\u001b[0m\u001b[39;49m -> \u001b[0m\u001b[32;49m23.0\u001b[0m\n",
      "\u001b[1m[\u001b[0m\u001b[34;49mnotice\u001b[0m\u001b[1;39;49m]\u001b[0m\u001b[39;49m To update, run: \u001b[0m\u001b[32;49mpython3.10 -m pip install --upgrade pip\u001b[0m\n",
      "Note: you may need to restart the kernel to use updated packages.\n",
      "Collecting scikit-learn\n",
      "  Downloading scikit_learn-1.2.1-cp310-cp310-macosx_12_0_arm64.whl (8.4 MB)\n",
      "\u001b[2K     \u001b[90m━━━━━━━━━━━━━━━━━━━━━━━━━━━━━━━━━━━━━━━━\u001b[0m \u001b[32m8.4/8.4 MB\u001b[0m \u001b[31m26.4 MB/s\u001b[0m eta \u001b[36m0:00:00\u001b[0m00:01\u001b[0m00:01\u001b[0m\n",
      "\u001b[?25hRequirement already satisfied: numpy>=1.17.3 in /Users/bushra.abdullahi/homebrew/lib/python3.10/site-packages (from scikit-learn) (1.24.1)\n",
      "Collecting threadpoolctl>=2.0.0\n",
      "  Downloading threadpoolctl-3.1.0-py3-none-any.whl (14 kB)\n",
      "Collecting scipy>=1.3.2\n",
      "  Downloading scipy-1.10.0-cp310-cp310-macosx_12_0_arm64.whl (28.8 MB)\n",
      "\u001b[2K     \u001b[90m━━━━━━━━━━━━━━━━━━━━━━━━━━━━━━━━━━━━━━━━\u001b[0m \u001b[32m28.8/28.8 MB\u001b[0m \u001b[31m29.3 MB/s\u001b[0m eta \u001b[36m0:00:00\u001b[0m00:01\u001b[0m00:01\u001b[0m\n",
      "\u001b[?25hRequirement already satisfied: joblib>=1.1.1 in /Users/bushra.abdullahi/homebrew/lib/python3.10/site-packages (from scikit-learn) (1.2.0)\n",
      "Installing collected packages: threadpoolctl, scipy, scikit-learn\n",
      "Successfully installed scikit-learn-1.2.1 scipy-1.10.0 threadpoolctl-3.1.0\n",
      "\n",
      "\u001b[1m[\u001b[0m\u001b[34;49mnotice\u001b[0m\u001b[1;39;49m]\u001b[0m\u001b[39;49m A new release of pip available: \u001b[0m\u001b[31;49m22.3.1\u001b[0m\u001b[39;49m -> \u001b[0m\u001b[32;49m23.0\u001b[0m\n",
      "\u001b[1m[\u001b[0m\u001b[34;49mnotice\u001b[0m\u001b[1;39;49m]\u001b[0m\u001b[39;49m To update, run: \u001b[0m\u001b[32;49mpython3.10 -m pip install --upgrade pip\u001b[0m\n",
      "Note: you may need to restart the kernel to use updated packages.\n"
     ]
    }
   ],
   "source": [
    "%pip install tweepy\n",
    "%pip install textblob\n",
    "%pip install nltk\n",
    "%pip install matplotlib\n",
    "%pip install scikit-learn"
   ]
  },
  {
   "cell_type": "code",
   "execution_count": 2,
   "metadata": {},
   "outputs": [],
   "source": [
    "import tweepy\n",
    "import re\n",
    "import textblob\n",
    "\n",
    "Api_key = 'bPLWMtnUuH6xkh9nlfniMiNZZ'\n",
    "API_secret_key = 'ARlA2pElm81JNmvg35yYFVSK4zwl4QBuiLouICtoLRzqDEJZKt'\n",
    "Access_Token = '1574560272399859715-JCkuEZoHCgTJxN7QJqD79qB6JsYUa4'\n",
    "Access_Token_Secret = '0sJdBHuNBzucxgeU6et4p5tyOgfjwB2esAV9zRMwMH0kC'\n",
    "\n",
    "\n",
    "def get_tweets(query, tweet_count=2500):\n",
    "    # Authenticate to Twitter\n",
    "    auth = tweepy.OAuthHandler(Api_key, API_secret_key)\n",
    "    auth.set_access_token(Access_Token, Access_Token_Secret)\n",
    "\n",
    "    # Create API object\n",
    "    api = tweepy.API(auth, wait_on_rate_limit=True)\n",
    "\n",
    "    # Use the Cursor object to get tweets matching the query\n",
    "    tweets = []\n",
    "    for tweet in tweepy.Cursor(api.search_tweets, q=query, lang='en',result_type='recent',  tweet_mode='extended').items(tweet_count):\n",
    "        tweets.append(tweet)\n",
    "\n",
    "    # Return the tweets\n",
    "    return tweets\n",
    "\n",
    "\n",
    "tweets = get_tweets('Rishi Sunak')\n",
    "tweet_texts = [tweet.full_text for tweet in tweets]\n"
   ]
  },
  {
   "cell_type": "markdown",
   "metadata": {},
   "source": [
    "## Cleaning the Data"
   ]
  },
  {
   "cell_type": "code",
   "execution_count": 3,
   "metadata": {},
   "outputs": [
    {
     "data": {
      "text/plain": [
       "[' Big mistake to raise corporation tax going into a period of low or negative growth. Both Rishi Sunak and Jeremy Hunt must…',\n",
       " ' Conservative MPs are about to make a renewed push for the UK to leave the European convention on human rights (ECHR), amid…',\n",
       " ' EXCL: Rishi Sunak has taken private helicopter trips to his North Yorkshire constituency costing thousands of pounds since…',\n",
       " ' The Conservatives literally didn’t fix the hospital roof when the sun was shining.\\n\\nNow the NHS is crumbling.\\n\\nTaxpayers…',\n",
       " ' Big mistake to raise corporation tax going into a period of low or negative growth. Both Rishi Sunak and Jeremy Hunt must…',\n",
       " ' Rishi Sunak ‘prepared to withdraw from European Convention on Human Rights’.\\nAfter attacking real wages, strike laws, Torie…',\n",
       " ' Should Rishi Sunak take us out of ECHR?\\n\\nA- yes\\n\\nB- no',\n",
       " \" Nicola Sturgeon had plenty to say about Rishi Sunak's wife's earnings, but when she was questioned on her husband loaning £10…\",\n",
       " ' Dear @RishiSunak, you are now 43 days overdue on your promise to publish your tax return. #SunakTaxReturnReminder https://…',\n",
       " ' 🚨 | NEW: Rishi Sunak and Suella Braverman are prepared to take the UK out of the ECHR if they get in the way of the new str…']"
      ]
     },
     "execution_count": 3,
     "metadata": {},
     "output_type": "execute_result"
    }
   ],
   "source": [
    "def remove_retweets(tweets):\n",
    "    # Create a list to store the tweets without the retweet text\n",
    "    tweets_without_retweets = []\n",
    "    \n",
    "    # Iterate over each tweet text\n",
    "    for tweet in tweets:\n",
    "        # Check if the tweet starts with \"RT\"\n",
    "        if tweet.startswith(\"RT\"):\n",
    "            # Find the index of \":\" in the tweet\n",
    "            colon_index = tweet.index(\":\")\n",
    "            \n",
    "            # Remove the text between and including \"RT\" and \":\" from the tweet\n",
    "            tweet = tweet[colon_index + 1:]\n",
    "        \n",
    "        # Append the tweet without the retweet text to the list\n",
    "        tweets_without_retweets.append(tweet)\n",
    "    \n",
    "    # Return the tweets without the retweet text\n",
    "    return tweets_without_retweets\n",
    "\n",
    "tweets_without_retweets = remove_retweets(tweet_texts)\n",
    "tweets_without_retweets[:10]\n"
   ]
  },
  {
   "cell_type": "code",
   "execution_count": 4,
   "metadata": {},
   "outputs": [
    {
     "data": {
      "text/plain": [
       "[' big mistake to raise corporation tax going into a period of low or negative growth. both rishi sunak and jeremy hunt must…',\n",
       " ' conservative mps are about to make a renewed push for the uk to leave the european convention on human rights (echr), amid…',\n",
       " ' excl: rishi sunak has taken private helicopter trips to his north yorkshire constituency costing thousands of pounds since…',\n",
       " ' the conservatives literally didn’t fix the hospital roof when the sun was shining.\\n\\nnow the nhs is crumbling.\\n\\ntaxpayers…',\n",
       " ' big mistake to raise corporation tax going into a period of low or negative growth. both rishi sunak and jeremy hunt must…',\n",
       " ' rishi sunak ‘prepared to withdraw from european convention on human rights’.\\nafter attacking real wages, strike laws, torie…',\n",
       " ' should rishi sunak take us out of echr?\\n\\na- yes\\n\\nb- no',\n",
       " \" nicola sturgeon had plenty to say about rishi sunak's wife's earnings, but when she was questioned on her husband loaning £10…\",\n",
       " ' dear @rishisunak, you are now 43 days overdue on your promise to publish your tax return. #sunaktaxreturnreminder https://…',\n",
       " ' 🚨 | new: rishi sunak and suella braverman are prepared to take the uk out of the echr if they get in the way of the new str…']"
      ]
     },
     "execution_count": 4,
     "metadata": {},
     "output_type": "execute_result"
    }
   ],
   "source": [
    "def lowercase_tweets(tweets):\n",
    "    # Create a list to store the lowercased tweets\n",
    "    lowercased_tweets = []\n",
    "    \n",
    "    # Iterate over each tweet text\n",
    "    for tweet in tweets:\n",
    "        # Lowercase the tweet text and append it to the list\n",
    "        lowercased_tweets.append(tweet.lower())\n",
    "    \n",
    "    # Return the lowercased tweets\n",
    "    return lowercased_tweets\n",
    "\n",
    "lower_tweets = lowercase_tweets(tweets_without_retweets)\n",
    "lower_tweets[:10]"
   ]
  },
  {
   "cell_type": "code",
   "execution_count": 5,
   "metadata": {},
   "outputs": [
    {
     "data": {
      "text/plain": [
       "[' big mistake to raise corporation tax going into a period of low or negative growth both rishi sunak and jeremy hunt must…',\n",
       " ' conservative mps are about to make a renewed push for the uk to leave the european convention on human rights echr amid…',\n",
       " ' excl rishi sunak has taken private helicopter trips to his north yorkshire constituency costing thousands of pounds since…',\n",
       " ' the conservatives literally didn’t fix the hospital roof when the sun was shining\\n\\nnow the nhs is crumbling\\n\\ntaxpayers…',\n",
       " ' big mistake to raise corporation tax going into a period of low or negative growth both rishi sunak and jeremy hunt must…',\n",
       " ' rishi sunak ‘prepared to withdraw from european convention on human rights’\\nafter attacking real wages strike laws torie…',\n",
       " ' should rishi sunak take us out of echr\\n\\na yes\\n\\nb no',\n",
       " ' nicola sturgeon had plenty to say about rishi sunaks wifes earnings but when she was questioned on her husband loaning £10…',\n",
       " ' dear rishisunak you are now 43 days overdue on your promise to publish your tax return sunaktaxreturnreminder https…',\n",
       " ' 🚨  new rishi sunak and suella braverman are prepared to take the uk out of the echr if they get in the way of the new str…']"
      ]
     },
     "execution_count": 5,
     "metadata": {},
     "output_type": "execute_result"
    }
   ],
   "source": [
    "import string\n",
    "\n",
    "def remove_punctuation(tweets):\n",
    "\n",
    "    # Create a list to store the tweets without punctuation\n",
    "    tweets_without_punctuation = []\n",
    "    \n",
    "    # Iterate over each lowercased tweet text\n",
    "    for tweet in tweets:\n",
    "        # Remove punctuation from the tweet text\n",
    "        tweet_without_punctuation = tweet.translate(str.maketrans(\"\", \"\", string.punctuation))\n",
    "        \n",
    "        # Append the tweet without punctuation to the list\n",
    "        tweets_without_punctuation.append(tweet_without_punctuation)\n",
    "    \n",
    "    # Return the tweets without punctuation\n",
    "    return tweets_without_punctuation\n",
    "\n",
    "tweets_without_punctuation = remove_punctuation(lower_tweets)\n",
    "tweets_without_punctuation[:10]"
   ]
  },
  {
   "cell_type": "code",
   "execution_count": 6,
   "metadata": {},
   "outputs": [
    {
     "name": "stderr",
     "output_type": "stream",
     "text": [
      "[nltk_data] Downloading package stopwords to\n",
      "[nltk_data]     /Users/bushra.abdullahi/nltk_data...\n",
      "[nltk_data]   Unzipping corpora/stopwords.zip.\n",
      "[nltk_data] Downloading package punkt to\n",
      "[nltk_data]     /Users/bushra.abdullahi/nltk_data...\n",
      "[nltk_data]   Unzipping tokenizers/punkt.zip.\n"
     ]
    },
    {
     "data": {
      "text/plain": [
       "['big mistake raise corporation tax going period low negative growth rishi sunak jeremy hunt must…',\n",
       " 'conservative mps make renewed push uk leave european convention human rights echr amid…',\n",
       " 'excl rishi sunak taken private helicopter trips north yorkshire constituency costing thousands pounds since…',\n",
       " 'conservatives literally ’ fix hospital roof sun shining nhs crumbling taxpayers…',\n",
       " 'big mistake raise corporation tax going period low negative growth rishi sunak jeremy hunt must…',\n",
       " 'rishi sunak ‘ prepared withdraw european convention human rights ’ attacking real wages strike laws torie…',\n",
       " 'rishi sunak take us echr yes b',\n",
       " 'nicola sturgeon plenty say rishi sunaks wifes earnings questioned husband loaning £10…',\n",
       " 'dear rishisunak 43 days overdue promise publish tax return sunaktaxreturnreminder https…',\n",
       " '🚨 new rishi sunak suella braverman prepared take uk echr get way new str…']"
      ]
     },
     "execution_count": 6,
     "metadata": {},
     "output_type": "execute_result"
    }
   ],
   "source": [
    "import nltk\n",
    "from nltk.corpus import stopwords\n",
    "from nltk.tokenize import word_tokenize\n",
    "\n",
    "nltk.download('stopwords')\n",
    "nltk.download('punkt')\n",
    "def remove_stop_words(tweets):\n",
    "    # Get the English stop words\n",
    "    stop_words = set(stopwords.words(\"english\"))\n",
    "    \n",
    "    # Create a list to store the tweets without stop words\n",
    "    tweets_without_stop_words = []\n",
    "    \n",
    "    # Iterate over each tweet text\n",
    "    for tweet in tweets:\n",
    "        # Tokenize the tweet text into words\n",
    "        words = word_tokenize(tweet)\n",
    "        \n",
    "        # Remove stop words from the list of words\n",
    "        words = [word for word in words if not word in stop_words]\n",
    "        \n",
    "        # Join the list of words back into a tweet text\n",
    "        tweet_without_stop_words = \" \".join(words)\n",
    "        \n",
    "        # Append the tweet without stop words to the list\n",
    "        tweets_without_stop_words.append(tweet_without_stop_words)\n",
    "    \n",
    "    # Return the tweets without stop words\n",
    "    return tweets_without_stop_words\n",
    "\n",
    "tweets_without_stop_words = remove_stop_words(tweets_without_punctuation)\n",
    "tweets_without_stop_words[:10]"
   ]
  },
  {
   "cell_type": "code",
   "execution_count": 7,
   "metadata": {},
   "outputs": [
    {
     "name": "stderr",
     "output_type": "stream",
     "text": [
      "[nltk_data] Downloading package punkt to\n",
      "[nltk_data]     /Users/bushra.abdullahi/nltk_data...\n",
      "[nltk_data]   Package punkt is already up-to-date!\n",
      "[nltk_data] Downloading package wordnet to\n",
      "[nltk_data]     /Users/bushra.abdullahi/nltk_data...\n"
     ]
    },
    {
     "data": {
      "text/plain": [
       "['big mistake raise corporation tax going period low negative growth rishi sunak jeremy hunt must…',\n",
       " 'conservative mp make renewed push uk leave european convention human right echr amid…',\n",
       " 'excl rishi sunak taken private helicopter trip north yorkshire constituency costing thousand pound since…',\n",
       " 'conservative literally ’ fix hospital roof sun shining nh crumbling taxpayers…',\n",
       " 'big mistake raise corporation tax going period low negative growth rishi sunak jeremy hunt must…',\n",
       " 'rishi sunak ‘ prepared withdraw european convention human right ’ attacking real wage strike law torie…',\n",
       " 'rishi sunak take u echr yes b',\n",
       " 'nicola sturgeon plenty say rishi sunaks wife earnings questioned husband loaning £10…',\n",
       " 'dear rishisunak 43 day overdue promise publish tax return sunaktaxreturnreminder https…',\n",
       " '🚨 new rishi sunak suella braverman prepared take uk echr get way new str…']"
      ]
     },
     "execution_count": 7,
     "metadata": {},
     "output_type": "execute_result"
    }
   ],
   "source": [
    "import nltk\n",
    "from nltk.tokenize import word_tokenize\n",
    "from nltk.stem import WordNetLemmatizer\n",
    "nltk.download('punkt')\n",
    "nltk.download('wordnet')\n",
    "\n",
    "def lemmatize_tweets(tweets):\n",
    "    # Initialize the WordNetLemmatizer\n",
    "    lemmatizer = WordNetLemmatizer()\n",
    "\n",
    "    # List to store the lemmatized tweets\n",
    "    lemmatized_tweets = []\n",
    "\n",
    "    # Iterate over each tweet text\n",
    "    for tweet in tweets:\n",
    "        # Tokenize the tweet text into words\n",
    "        words = word_tokenize(tweet)\n",
    "        # Lemmatize each word\n",
    "        lemmatized_words = [lemmatizer.lemmatize(word) for word in words]\n",
    "        # Join the lemmatized words to form the lemmatized tweet\n",
    "        lemmatized_tweet = \" \".join(lemmatized_words)\n",
    "        # Add the lemmatized tweet to the list of lemmatized tweets\n",
    "        lemmatized_tweets.append(lemmatized_tweet)\n",
    "\n",
    "    # Return the lemmatized tweets\n",
    "    return lemmatized_tweets\n",
    "\n",
    "lemmatized_tweets = lemmatize_tweets(tweets_without_stop_words)\n",
    "lemmatized_tweets[:10]"
   ]
  },
  {
   "cell_type": "code",
   "execution_count": 8,
   "metadata": {},
   "outputs": [
    {
     "name": "stdout",
     "output_type": "stream",
     "text": [
      "2500\n",
      "539\n"
     ]
    }
   ],
   "source": [
    "print(len(lemmatized_tweets))\n",
    "\n",
    "def remove_duplicates(tweets_list):\n",
    "    unique_tweets = []\n",
    "    for tweet in tweets_list:\n",
    "        if tweet not in unique_tweets:\n",
    "            unique_tweets.append(tweet)\n",
    "    return unique_tweets\n",
    "\n",
    "unique_tweets = remove_duplicates(lemmatized_tweets)\n",
    "print(len(unique_tweets))"
   ]
  },
  {
   "cell_type": "markdown",
   "metadata": {},
   "source": [
    "## Sentiment Analysis"
   ]
  },
  {
   "cell_type": "code",
   "execution_count": 9,
   "metadata": {},
   "outputs": [
    {
     "name": "stderr",
     "output_type": "stream",
     "text": [
      "[nltk_data] Downloading package punkt to\n",
      "[nltk_data]     /Users/bushra.abdullahi/nltk_data...\n",
      "[nltk_data]   Package punkt is already up-to-date!\n",
      "[nltk_data] Downloading package vader_lexicon to\n",
      "[nltk_data]     /Users/bushra.abdullahi/nltk_data...\n"
     ]
    },
    {
     "data": {
      "image/png": "[encoded data removed]",
      "text/plain": [
       "<Figure size 640x480 with 1 Axes>"
      ]
     },
     "metadata": {},
     "output_type": "display_data"
    }
   ],
   "source": [
    "import nltk\n",
    "from nltk.sentiment import SentimentIntensityAnalyzer\n",
    "import matplotlib.pyplot as plt\n",
    "nltk.download('punkt')\n",
    "nltk.download('vader_lexicon')\n",
    "\n",
    "def sentiment_checker(tweets):\n",
    "    # Create a SentimentIntensityAnalyzer object\n",
    "    sentiment_analyzer = SentimentIntensityAnalyzer()\n",
    "    \n",
    "    # Keep track of the number of positive, negative, and neutral tweets\n",
    "    positive_tweets = 0\n",
    "    negative_tweets = 0\n",
    "    neutral_tweets = 0\n",
    "    \n",
    "    # Iterate over each tweet\n",
    "    for tweet in tweets:\n",
    "        # Get the sentiment of the tweet\n",
    "        sentiment = sentiment_analyzer.polarity_scores(tweet)\n",
    "        \n",
    "        # Increment the appropriate counter based on the sentiment score\n",
    "        if sentiment['compound'] > 0:\n",
    "            positive_tweets += 1\n",
    "        elif sentiment['compound'] < 0:\n",
    "            negative_tweets += 1\n",
    "        else:\n",
    "            neutral_tweets += 1\n",
    "    \n",
    "    # Calculate the total number of tweets\n",
    "    total_tweets = positive_tweets + negative_tweets + neutral_tweets\n",
    "    \n",
    "    # Calculate the percentage of tweets that are positive, negative, and neutral\n",
    "    positive_percentage = (positive_tweets / total_tweets) * 100\n",
    "    negative_percentage = (negative_tweets / total_tweets) * 100\n",
    "    neutral_percentage = (neutral_tweets / total_tweets) * 100\n",
    "    \n",
    "    # Return the percentages\n",
    "    return {'positive_percentage': positive_percentage,\n",
    "            'negative_percentage': negative_percentage,\n",
    "            'neutral_percentage': neutral_percentage}\n",
    "\n",
    "\n",
    "def plot_sentiment(sentiments):\n",
    "    # Pie chart, where the slices will be ordered and plotted counter-clockwise:\n",
    "    labels = 'Positive', 'Negative', 'Neutral'\n",
    "    sizes = [sentiments['positive_percentage'], sentiments['negative_percentage'], sentiments['neutral_percentage']]\n",
    "    colors = ['yellowgreen', 'lightcoral', 'gold']\n",
    "    \n",
    "    fig1, ax1 = plt.subplots()\n",
    "    ax1.pie(sizes, colors=colors, labels=labels, autopct='%1.1f%%', startangle=140)\n",
    "    \n",
    "    # Draw a circle at the center of pie to make it look like a donut\n",
    "    centre_circle = plt.Circle((0, 0), 0.70, color='black', fc='white', linewidth=1.25)\n",
    "    fig = plt.gcf()\n",
    "    fig.gca().add_artist(centre_circle)\n",
    "    \n",
    "    # Set aspect ratio to be equal so that pie is drawn as a circle\n",
    "    plt.axis('equal')  \n",
    "    plt.tight_layout()\n",
    "    plt.show()\n",
    "\n",
    "# Get the tweets and calculate the sentiment percentages\n",
    "sentiments = sentiment_checker(unique_tweets)\n",
    "\n",
    "# Plot the sentiment percentages as a pie chart\n",
    "plot_sentiment(sentiments)"
   ]
  },
  {
   "cell_type": "code",
   "execution_count": 10,
   "metadata": {},
   "outputs": [
    {
     "data": {
      "text/plain": [
       "['bbcnews prime minister rishi sunak say earth orbit sun',\n",
       " 'sunak say focused sending uk weapon ukraine quickly possible british prime minister rishi sunak',\n",
       " 'rishi sunak dharma work prime minister uk',\n",
       " 'currently think rishi sunak win next general election tory overall majority 101',\n",
       " 'pm modi becomes world popular leader leaving behind rishi sunak joe biden check ranking list httpstcofh3nhnn6nc',\n",
       " 'know rishi sunak weak prime minister briefing liz truss making political comeback circling',\n",
       " 'rishi sunak brought hindu value hinduism concept called dharma duty serving world',\n",
       " 'prime minister rishi sunak say biological sex doesnt really matter httpstcoyxsudnrbrj',\n",
       " 'gov2uk 🌹good morning everyone🌹 5 feb day 376 digital protest sunaks corrupt govt 213 day since liarjohn',\n",
       " 'prime minister rishi sunak new plan tackle immigration crisis “ multiculturalism simply isnt working ” http',\n",
       " 'prime minister rishisunak stood common said going look vulnerableso ask prime minister terminal illness fall category ive asked meet face face dying month nothing',\n",
       " 'heard rishisunak speak plan economy im impressed clear vision drive make happen rishisunak ukeconomy',\n",
       " 'rishi sunak gamechanger uk politics policy supporting small business boosting job creation truly inspiring sunakforpm',\n",
       " 'thank rishisunak leadership challenging time response pandemic commendable much appreciated sunakleadership',\n",
       " 'rishi sunaks commitment investing education skill exactly uk need build strong future sunakforeducation',\n",
       " 'rishi sunaks policy hurting vulnerable society lining pocket wealthy notmypm',\n",
       " 'rishi sunaks lack action climate change unacceptable planet wait prioritize corporate interest',\n",
       " 'latest cut proposed rishi sunak devastating effect education health service call leader',\n",
       " 'rishi sunaks handling economy disaster decision leaving million struggling make end meet',\n",
       " 'rishi sunaks disregard worker right concerning pm need prioritize need people corporation']"
      ]
     },
     "execution_count": 10,
     "metadata": {},
     "output_type": "execute_result"
    }
   ],
   "source": [
    "tuple = [\n",
    "('bbcnews prime minister rishi sunak says the earth orbits the sun', 'neutral'),\n",
    "('sunak says he is focused on sending UK weapons to Ukraine as quickly as possible. British Prime Minister Rishi Sunak...', 'neutral'),\n",
    "('rishi sunak dharma work as Prime Minister of UK', 'neutral'),\n",
    "('currently think rishi sunak will win the next general election for the Tory overall majority 101...', 'positive'),\n",
    "('pm modi becomes the worlds most popular leader, leaving behind Rishi Sunak and Joe Biden. Check the ranking list httpstcofh3nhnn6nc', 'negative'),\n",
    "('know rishi sunak is weak as Prime Minister. Briefing Liz Truss is making a political comeback and circling just...', 'negative'),\n",
    "('rishi sunak brought Hindu values and Hinduism concept called dharma duty serving the world...', 'neutral'),\n",
    "('prime minister rishi sunak says biological sex doesnt really matter. httpstcoyxsudnrbrj', 'neutral'),\n",
    "('gov2uk 🌹good morning everyone🌹 5 Feb is the day 376 of the digital protest against Sunaks corrupt govt and 213 day since liarjohn...', 'negative'),\n",
    "('prime minister rishi sunak new plan to tackle immigration crisis “multiculturalism simply isnt working” http...', 'neutral'),\n",
    "('We have a prime minister @RishiSunak who stood in the commons & said he was going to look after the vulnerable,so i ask you prime minister does having a terminal illness fall in that category as ive asked for you to meet face to face with a dying for months & NOTHING why is that', 'negative'),\n",
    "('Just heard @RishiSunak speak about his plans for the economy and Im impressed! He has a clear vision and the drive to make it happen #RishiSunak #UKEconomy', 'positive'),\n",
    "('Rishi Sunak is a game-changer in UK politics! His policies on supporting small businesses and boosting job creation are truly inspiring #SunakForPM', 'positive'),\n",
    "('Thank you @RishiSunak for your leadership during these challenging times. Your response to the pandemic has been commendable and much appreciated #SunakLeadership', 'positive'),\n",
    "('Rishi Sunaks commitment to investing in education and skills is exactly what the UK needs to build a strong future #SunakForEducation', 'positive'),\n",
    "('Rishi Sunaks policies are hurting the most vulnerable in society and lining the pockets of the wealthy #notmypm','negative'),\n",
    "('Rishi Sunaks lack of action on climate change is unacceptable. Our planet cannot wait for him to prioritize corporate interests.','negative'),\n",
    "('The latest cuts proposed by Rishi Sunak will have devastating effects on education and health services. How can he call himself a leader?','negative'),\n",
    "('Rishi Sunaks handling of the economy is a disaster. His decisions are leaving millions struggling to make ends meet.','negative'),\n",
    "('Rishi Sunaks disregard for workers rights is concerning. The PM needs to prioritize the needs of the people, not just corporations.','negative'),\n",
    "]\n",
    "\n",
    "lowercase_tweets_list = lowercase_tweets([tweet[0] for tweet in tuple])\n",
    "remove_punctuation_list = remove_punctuation(lowercase_tweets_list)\n",
    "remove_stop_words_list = remove_stop_words(remove_punctuation_list)\n",
    "lemmatized_tweets_list = lemmatize_tweets(remove_stop_words_list)\n",
    "lemmatized_tweets_list\n",
    "\n"
   ]
  },
  {
   "cell_type": "code",
   "execution_count": 11,
   "metadata": {},
   "outputs": [
    {
     "name": "stdout",
     "output_type": "stream",
     "text": [
      "Precision: 81.62%\n",
      "Recall: 75.00%\n",
      "F-measure: 72.13%\n"
     ]
    }
   ],
   "source": [
    "from sklearn.metrics import precision_recall_fscore_support\n",
    "\n",
    "import nltk\n",
    "from nltk.sentiment import SentimentIntensityAnalyzer\n",
    "\n",
    "def sentiment_analysis(tweet):\n",
    "    # initialize sentiment analyzer\n",
    "    sentiment_analyzer = SentimentIntensityAnalyzer()\n",
    "    \n",
    "    # get sentiment scores for the tweet\n",
    "    sentiment_scores = sentiment_analyzer.polarity_scores(tweet)\n",
    "    \n",
    "    # get the compound score, which summarizes the overall sentiment\n",
    "    compound_score = sentiment_scores[\"compound\"]\n",
    "    \n",
    "    # return \"positive\" if the compound score is greater than 0\n",
    "    # return \"negative\" if the compound score is less than 0\n",
    "    # return \"neutral\" if the compound score is equal to 0\n",
    "    if compound_score > 0:\n",
    "        return \"positive\"\n",
    "    elif compound_score < 0:\n",
    "        return \"negative\"\n",
    "    else:\n",
    "        return \"neutral\"\n",
    "\n",
    "def calc_precision_recall_fscore(tuple, tweets_list):\n",
    "    true_labels = [label for text, label in tuple]\n",
    "    predicted_labels = []\n",
    "    \n",
    "    # Append the predicted labels to the list\n",
    "    for tweet in lemmatized_tweets_list:\n",
    "        predicted_labels.append(sentiment_analysis(tweet))\n",
    "            \n",
    "    precision, recall, fscore, support = precision_recall_fscore_support(\n",
    "        true_labels, predicted_labels, average='weighted')\n",
    "    \n",
    "    print(\"Precision: {:.2f}%\".format(precision * 100))\n",
    "    print(\"Recall: {:.2f}%\".format(recall * 100))\n",
    "    print(\"F-measure: {:.2f}%\".format(fscore * 100))\n",
    "\n",
    "\n",
    "calc_precision_recall_fscore(tuple, lemmatized_tweets_list)"
   ]
  }
 ],
 "metadata": {
  "kernelspec": {
   "display_name": "Python 3.10.9 64-bit",
   "language": "python",
   "name": "python3"
  },
  "language_info": {
   "codemirror_mode": {
    "name": "ipython",
    "version": 3
   },
   "file_extension": ".py",
   "mimetype": "text/x-python",
   "name": "python",
   "nbconvert_exporter": "python",
   "pygments_lexer": "ipython3",
   "version": "3.10.9"
  },
  "vscode": {
   "interpreter": {
    "hash": "2c0cb764be3ddc5c5050d89d65c8f20235c3b330b3e6006f6f13442bcc8edf56"
   }
  }
 },
 "nbformat": 4,
 "nbformat_minor": 2
}
